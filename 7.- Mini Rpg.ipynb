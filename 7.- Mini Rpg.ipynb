{
 "cells": [
  {
   "cell_type": "markdown",
   "metadata": {},
   "source": [
    "Mini Rpg en Python\n",
    "\n",
    "#100DaysPython Dia 7\n"
   ]
  },
  {
   "cell_type": "code",
   "execution_count": 1,
   "metadata": {},
   "outputs": [],
   "source": [
    "#Creamos la base de datos del Mini Rpg"
   ]
  },
  {
   "cell_type": "code",
   "execution_count": 19,
   "metadata": {},
   "outputs": [],
   "source": [
    "import sqlite3\n",
    "\n",
    "#usamos modulo sqlite , metodo connect para conectar base de datos si ya existe o lo crea si no existe.\n",
    "\n",
    "conexion = sqlite3.connect(\"rpg.db\")\n",
    "\n",
    "#cerrando la conexion\n",
    "conexion.close()"
   ]
  },
  {
   "cell_type": "code",
   "execution_count": 3,
   "metadata": {},
   "outputs": [],
   "source": [
    "#creamos tabla"
   ]
  },
  {
   "cell_type": "code",
   "execution_count": 20,
   "metadata": {},
   "outputs": [
    {
     "ename": "OperationalError",
     "evalue": "table PERSONAJE already exists",
     "output_type": "error",
     "traceback": [
      "\u001b[0;31m---------------------------------------------------------------------------\u001b[0m",
      "\u001b[0;31mOperationalError\u001b[0m                          Traceback (most recent call last)",
      "\u001b[0;32m<ipython-input-20-7603fc262a23>\u001b[0m in \u001b[0;36m<module>\u001b[0;34m\u001b[0m\n\u001b[1;32m      5\u001b[0m \u001b[0mcursor\u001b[0m \u001b[0;34m=\u001b[0m \u001b[0mconexion\u001b[0m\u001b[0;34m.\u001b[0m\u001b[0mcursor\u001b[0m\u001b[0;34m(\u001b[0m\u001b[0;34m)\u001b[0m\u001b[0;34m\u001b[0m\u001b[0;34m\u001b[0m\u001b[0m\n\u001b[1;32m      6\u001b[0m \u001b[0;31m#metodo execute se utiliza para crear una tabla CREATE TABLE\u001b[0m\u001b[0;34m\u001b[0m\u001b[0;34m\u001b[0m\u001b[0;34m\u001b[0m\u001b[0m\n\u001b[0;32m----> 7\u001b[0;31m \u001b[0mcursor\u001b[0m\u001b[0;34m.\u001b[0m\u001b[0mexecute\u001b[0m\u001b[0;34m(\u001b[0m\u001b[0;34m\"CREATE TABLE PERSONAJE (nombre TEXT, Nivel TINYINT, Experencia INTEGER, gold INTEGER, Pvida INTEGER,Pfuerza INTEGER)\"\u001b[0m\u001b[0;34m)\u001b[0m\u001b[0;34m\u001b[0m\u001b[0;34m\u001b[0m\u001b[0m\n\u001b[0m\u001b[1;32m      8\u001b[0m \u001b[0;34m\u001b[0m\u001b[0m\n\u001b[1;32m      9\u001b[0m \u001b[0mconexion\u001b[0m\u001b[0;34m.\u001b[0m\u001b[0mcommit\u001b[0m\u001b[0;34m(\u001b[0m\u001b[0;34m)\u001b[0m\u001b[0;34m\u001b[0m\u001b[0;34m\u001b[0m\u001b[0m\n",
      "\u001b[0;31mOperationalError\u001b[0m: table PERSONAJE already exists"
     ]
    }
   ],
   "source": [
    "import sqlite3\n",
    "\n",
    "conexion = sqlite3.connect(\"rpg.db\")\n",
    "#se utiliza el metodo cursor para ejecutar sentencias SQL dentro de la base de datos\n",
    "cursor = conexion.cursor()\n",
    "#metodo execute se utiliza para crear una tabla CREATE TABLE\n",
    "cursor.execute(\"CREATE TABLE PERSONAJE (nombre TEXT, Nivel TINYINT, Experencia INTEGER, gold INTEGER, Pvida INTEGER,Pfuerza INTEGER)\")\n",
    "\n",
    "conexion.commit()\n",
    "\n",
    "conexion.close()"
   ]
  },
  {
   "cell_type": "code",
   "execution_count": 6,
   "metadata": {},
   "outputs": [],
   "source": [
    "#CONSULTAR datos"
   ]
  },
  {
   "cell_type": "code",
   "execution_count": 32,
   "metadata": {},
   "outputs": [
    {
     "name": "stdout",
     "output_type": "stream",
     "text": [
      "('ISRAEL', 1, 1, 10, 1, 2)\n",
      "('israel', 1, 1, 10, 1, 2)\n",
      "('israel', 1, 1, 10, 1, 2)\n",
      "('gotarsi', 1, 1, 10, 1, 2)\n",
      "('gotarsi2', 1, 1, 10, 1, 2)\n"
     ]
    }
   ],
   "source": [
    "import sqlite3\n",
    "\n",
    "conexion = sqlite3.connect(\"rpg.db\")\n",
    "#se utiliza el metodo cursor para ejecutar sentencias SQL dentro de la base de datos\n",
    "cursor = conexion.cursor()\n",
    "\n",
    "cursor.execute(\"SELECT * FROM PERSONAJE\")\n",
    "\n",
    "#el metodo fetchall recoge la consulta anterior al execute,recogera todos los resultados de la tabla ppersonajes\n",
    "personajes =cursor.fetchall()\n",
    "\n",
    "for persona in personajes:\n",
    "    print(persona)\n",
    "\n",
    "conexion.close()"
   ]
  },
  {
   "cell_type": "code",
   "execution_count": 8,
   "metadata": {},
   "outputs": [],
   "source": [
    "#creacion personaje utilizando teclado"
   ]
  },
  {
   "cell_type": "code",
   "execution_count": 23,
   "metadata": {},
   "outputs": [
    {
     "name": "stdout",
     "output_type": "stream",
     "text": [
      "¿Cómo se llama?\n",
      "ISRAEL\n",
      "Me alegro de conocerle, ISRAEL\n"
     ]
    }
   ],
   "source": [
    "import sqlite3\n",
    "\n",
    "print(\"¿Cómo se llama?\")\n",
    "nombre = input()\n",
    "print(f\"Me alegro de conocerle, {nombre}\")\n",
    "\n",
    "conexion = sqlite3.connect(\"rpg.db\")\n",
    "cursor = conexion.cursor()\n",
    "#se utiliza el metodo cursor para ejecutar sentencias SQL dentro de la base de datos\n",
    "lista_personas = [(nombre,1,1,10,1,2)]\n",
    "\n",
    "#metodo executemany para insertar varios registros , como parametro para el metodo utilizamos la lista\n",
    "cursor.executemany(\"INSERT INTO PERSONAJE VALUES (?,?,?,?,?,?)\",lista_personas)\n",
    "\n",
    "conexion.commit()\n",
    "\n",
    "conexion.close()\n"
   ]
  },
  {
   "cell_type": "code",
   "execution_count": 25,
   "metadata": {},
   "outputs": [],
   "source": [
    "#creacion de perdonaje y menu simple"
   ]
  },
  {
   "cell_type": "code",
   "execution_count": 39,
   "metadata": {},
   "outputs": [
    {
     "name": "stdout",
     "output_type": "stream",
     "text": [
      "¿Cómo se llama?\n",
      "red\n",
      "Me alegro de conocerle, red\n",
      "-----------------------------------\n",
      "que deseas realizar , red\n",
      "-----------------------------------\n",
      "1.- Ver Status\n",
      "1\n",
      "haz seleccionado los status red\n",
      "('red', 1, 1, 10, 1, 2)\n"
     ]
    }
   ],
   "source": [
    "import sqlite3\n",
    "\n",
    "print(\"¿Cómo se llama?\")\n",
    "nombre = input()\n",
    "print(f\"Me alegro de conocerle, {nombre}\")\n",
    "print(\"-----------------------------------\")\n",
    "\n",
    "conexion = sqlite3.connect(\"rpg.db\")\n",
    "cursor = conexion.cursor()\n",
    "#se utiliza el metodo cursor para ejecutar sentencias SQL dentro de la base de datos\n",
    "lista_personas = [(nombre,1,1,10,1,2)]\n",
    "\n",
    "#metodo executemany para insertar varios registros , como parametro para el metodo utilizamos la lista\n",
    "cursor.executemany(\"INSERT INTO PERSONAJE VALUES (?,?,?,?,?,?)\",lista_personas)\n",
    "\n",
    "conexion.commit()\n",
    "\n",
    "conexion.close()\n",
    "print(f\"que deseas realizar , {nombre}\")\n",
    "print(\"-----------------------------------\")\n",
    "print(\"1.- Ver Status\")\n",
    "menu = input()\n",
    "if menu == \"1\":\n",
    "    print(\"haz seleccionado los status\", nombre)\n",
    "    conexion = sqlite3.connect(\"rpg.db\")\n",
    "#se utiliza el metodo cursor para ejecutar sentencias SQL dentro de la base de datos\n",
    "    cursor = conexion.cursor()\n",
    "\n",
    "    cursor.execute(\"SELECT * FROM PERSONAJE WHERE nombre = (?)\", (nombre,))\n",
    "\n",
    "\n",
    "#el metodo fetchall recoge la consulta anterior al execute,recogera todos los resultados de la tabla personas    \n",
    "    personas_selec =cursor.fetchall()\n",
    "\n",
    "    for persona in personas_selec:\n",
    "        print(persona)\n",
    "\n",
    "    conexion.close()\n",
    "    \n",
    "else:\n",
    "    print(\"intenta nuevamente\")\n",
    "\n"
   ]
  },
  {
   "cell_type": "code",
   "execution_count": null,
   "metadata": {},
   "outputs": [],
   "source": []
  }
 ],
 "metadata": {
  "kernelspec": {
   "display_name": "Python 3",
   "language": "python",
   "name": "python3"
  },
  "language_info": {
   "codemirror_mode": {
    "name": "ipython",
    "version": 3
   },
   "file_extension": ".py",
   "mimetype": "text/x-python",
   "name": "python",
   "nbconvert_exporter": "python",
   "pygments_lexer": "ipython3",
   "version": "3.8.5"
  }
 },
 "nbformat": 4,
 "nbformat_minor": 4
}
