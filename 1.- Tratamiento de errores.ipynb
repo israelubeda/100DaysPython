{
 "cells": [
  {
   "cell_type": "markdown",
   "metadata": {},
   "source": [
    "# Tratamiento de errores en Python \n",
    "#100DaysPython  Dia 1"
   ]
  },
  {
   "cell_type": "code",
   "execution_count": 1,
   "metadata": {},
   "outputs": [],
   "source": [
    "# try ...except ... else ... finally"
   ]
  },
  {
   "cell_type": "code",
   "execution_count": 2,
   "metadata": {},
   "outputs": [
    {
     "ename": "ZeroDivisionError",
     "evalue": "division by zero",
     "output_type": "error",
     "traceback": [
      "\u001b[0;31m---------------------------------------------------------------------------\u001b[0m",
      "\u001b[0;31mZeroDivisionError\u001b[0m                         Traceback (most recent call last)",
      "\u001b[0;32m<ipython-input-2-39242f36b12e>\u001b[0m in \u001b[0;36m<module>\u001b[0;34m\u001b[0m\n\u001b[1;32m      1\u001b[0m \u001b[0mnumero1\u001b[0m \u001b[0;34m=\u001b[0m \u001b[0;36m5\u001b[0m\u001b[0;34m\u001b[0m\u001b[0;34m\u001b[0m\u001b[0m\n\u001b[1;32m      2\u001b[0m \u001b[0mnumero2\u001b[0m \u001b[0;34m=\u001b[0m \u001b[0;36m0\u001b[0m\u001b[0;34m\u001b[0m\u001b[0;34m\u001b[0m\u001b[0m\n\u001b[0;32m----> 3\u001b[0;31m \u001b[0mdivision\u001b[0m \u001b[0;34m=\u001b[0m \u001b[0mnumero1\u001b[0m \u001b[0;34m/\u001b[0m \u001b[0mnumero2\u001b[0m\u001b[0;34m\u001b[0m\u001b[0;34m\u001b[0m\u001b[0m\n\u001b[0m\u001b[1;32m      4\u001b[0m \u001b[0mprint\u001b[0m\u001b[0;34m(\u001b[0m\u001b[0mdivision\u001b[0m\u001b[0;34m)\u001b[0m\u001b[0;34m\u001b[0m\u001b[0;34m\u001b[0m\u001b[0m\n",
      "\u001b[0;31mZeroDivisionError\u001b[0m: division by zero"
     ]
    }
   ],
   "source": [
    "numero1 = 5\n",
    "numero2 = 0\n",
    "division = numero1 / numero2\n",
    "print(division)"
   ]
  },
  {
   "cell_type": "code",
   "execution_count": 7,
   "metadata": {},
   "outputs": [
    {
     "name": "stdout",
     "output_type": "stream",
     "text": [
      "1.0\n"
     ]
    }
   ],
   "source": [
    "try:\n",
    "    numero1 = 5\n",
    "    numero2 = 5\n",
    "    division = numero1 / numero2\n",
    "    print(division)\n",
    "except:\n",
    "    print(\"Hay un error\")"
   ]
  },
  {
   "cell_type": "code",
   "execution_count": 8,
   "metadata": {},
   "outputs": [],
   "source": [
    "#ZeroDivisionError:"
   ]
  },
  {
   "cell_type": "code",
   "execution_count": 10,
   "metadata": {},
   "outputs": [
    {
     "name": "stdout",
     "output_type": "stream",
     "text": [
      "division da valor cero\n"
     ]
    }
   ],
   "source": [
    "try:\n",
    "    numero1 = 5\n",
    "    numero2 = 0\n",
    "    division = numero1 / numero2\n",
    "    print(division)\n",
    "except ZeroDivisionError:\n",
    "    print(\"division da valor cero\")\n",
    "except:\n",
    "    print(\"Hay un error\")"
   ]
  },
  {
   "cell_type": "code",
   "execution_count": 12,
   "metadata": {},
   "outputs": [
    {
     "name": "stdout",
     "output_type": "stream",
     "text": [
      "2.5\n",
      "la division funciono perfectamente\n"
     ]
    }
   ],
   "source": [
    "try:\n",
    "    numero1 = 5\n",
    "    numero2 = 2\n",
    "    division = numero1 / numero2\n",
    "    print(division)\n",
    "except ZeroDivisionError:\n",
    "    print(\"error,division da valor cero\")\n",
    "except:\n",
    "    print(\"Hay un error\")\n",
    "else:\n",
    "    print(\"la division funciono perfectamente\")"
   ]
  },
  {
   "cell_type": "code",
   "execution_count": 14,
   "metadata": {},
   "outputs": [
    {
     "name": "stdout",
     "output_type": "stream",
     "text": [
      "error,division da valor cero\n",
      "el progama termino aqui....\n"
     ]
    }
   ],
   "source": [
    "try:\n",
    "    numero1 = 5\n",
    "    numero2 = 0\n",
    "    division = numero1 / numero2\n",
    "    print(division)\n",
    "except ZeroDivisionError:\n",
    "    print(\"error,division da valor cero\")\n",
    "except:\n",
    "    print(\"Hay un error\")\n",
    "else:\n",
    "    print(\"la division funciono perfectamente\")\n",
    "finally:\n",
    "    print(\"el progama termino aqui....\")"
   ]
  },
  {
   "cell_type": "code",
   "execution_count": null,
   "metadata": {},
   "outputs": [],
   "source": []
  }
 ],
 "metadata": {
  "kernelspec": {
   "display_name": "Python 3",
   "language": "python",
   "name": "python3"
  },
  "language_info": {
   "codemirror_mode": {
    "name": "ipython",
    "version": 3
   },
   "file_extension": ".py",
   "mimetype": "text/x-python",
   "name": "python",
   "nbconvert_exporter": "python",
   "pygments_lexer": "ipython3",
   "version": "3.8.5"
  }
 },
 "nbformat": 4,
 "nbformat_minor": 4
}
