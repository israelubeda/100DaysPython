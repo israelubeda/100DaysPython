{
 "cells": [
  {
   "cell_type": "markdown",
   "metadata": {},
   "source": [
    "Lector de archivos ,miniprograma #100DaysPython Dia 6"
   ]
  },
  {
   "cell_type": "code",
   "execution_count": 1,
   "metadata": {},
   "outputs": [
    {
     "name": "stdout",
     "output_type": "stream",
     "text": [
      "--------------------------------------------------\n",
      "El valor de ETH en Coin360   :$  753310\n",
      "\n",
      "El valor de ETH en BUDA      :$  790236\n",
      "\n",
      "La diferencia es      :$  -36926\n",
      "\n",
      "--------------------------------------------------\n"
     ]
    }
   ],
   "source": [
    "def main():\n",
    "\n",
    "        dolar=open(\"dolar.txt\",\"r\")        \n",
    "        eth=open(\"eth.txt\",\"r\")\n",
    "        ethbudaclp=open(\"ethclpbuda.txt\",\"r\")\n",
    "        \n",
    "        linea_lista=[]\n",
    "        dolar_lista=[]\n",
    "        eth_lista=[]\n",
    "        numero=1\n",
    "\n",
    "        for coddolar in dolar:\n",
    "            dolar_lista.append(coddolar)\n",
    "        for codethbud in ethbudaclp:\n",
    "            eth_lista.append(codethbud)\n",
    "\n",
    "        \n",
    "        for linea in eth:\n",
    "            linea_lista=linea.split()\n",
    "            numero=int(float(linea))*int(float(dolar_lista[0]))\n",
    "            diferencia=int(float(numero))-int(float(eth_lista[0]))\n",
    "\n",
    "         \n",
    "        print (\"--------------------------------------------------\") \n",
    "        print (\"El valor de ETH en Coin360   :$ \",int(float(numero)))\n",
    "        print (\"\\nEl valor de ETH en BUDA      :$ \",int(float(eth_lista[0])))\n",
    "        print (\"\\nLa diferencia es      :$ \",int(float(diferencia)))\n",
    "        print (\"\\n--------------------------------------------------\") \n",
    "        \n",
    "        eth.close()\n",
    "        dolar.close()\n",
    "        ethbudaclp.close()\n",
    "        \n",
    "        \n",
    "        \n",
    "main()\n",
    "\n"
   ]
  },
  {
   "cell_type": "code",
   "execution_count": null,
   "metadata": {},
   "outputs": [],
   "source": []
  }
 ],
 "metadata": {
  "kernelspec": {
   "display_name": "Python 3",
   "language": "python",
   "name": "python3"
  },
  "language_info": {
   "codemirror_mode": {
    "name": "ipython",
    "version": 3
   },
   "file_extension": ".py",
   "mimetype": "text/x-python",
   "name": "python",
   "nbconvert_exporter": "python",
   "pygments_lexer": "ipython3",
   "version": "3.8.5"
  }
 },
 "nbformat": 4,
 "nbformat_minor": 4
}
