{
 "cells": [
  {
   "cell_type": "markdown",
   "metadata": {},
   "source": [
    "#Comparar imagenes"
   ]
  },
  {
   "cell_type": "code",
   "execution_count": 1,
   "metadata": {},
   "outputs": [
    {
     "name": "stdout",
     "output_type": "stream",
     "text": [
      "si fue encontardo  (array([160, 160, 160, ..., 350, 351, 351]), array([623, 624, 625, ..., 220, 216, 217]))\n"
     ]
    }
   ],
   "source": [
    "#Programa Python Ejemplo\n",
    "#Template Matching\n",
    "import cv2\n",
    "import numpy as np\n",
    "\n",
    "#Leer la imagen principal\n",
    "img_rgb = cv2.imread(\"face.jpg\")\n",
    "cv2.imshow(\"Face\",img_rgb)\n",
    "#Convertir a escala gris\n",
    "img_gray = cv2.cvtColor(img_rgb, cv2.COLOR_BGR2GRAY)\n",
    "cv2.imshow(\"Test\",img_rgb)\n",
    "#Leer la plantilla\n",
    "template = cv2.imread(\"eye.jpg\",0)\n",
    "\n",
    "#Almacenar la anchura (w) y la altura (h) de la plantilla\n",
    "w, h = template.shape[::-1]\n",
    "\n",
    "#Realizar operaciones de coincidencia\n",
    "res = cv2.matchTemplate(img_gray,template,cv2.TM_CCOEFF_NORMED)\n",
    "\n",
    "#Especificar un umbral (threshold)\n",
    "threshold = 0.5\n",
    "\n",
    "#Almacenar las coordenadas del área coincidente en un array numpy\n",
    "loc = np.where( res >= threshold)\n",
    "\n",
    "#Dibujar un rectángulo alrededor de la región adaptada encontrada\n",
    "#for pt in zip(*loc[::-1]):\n",
    "#    print (\"el numero es \", pt)\n",
    "#    cv2.rectangle(img_rgb, pt, (int(pt) +int(w), int(pt) + int(h)), (0,255,255), 1)\n",
    "\n",
    "#Mostrar la imagen final con el área correspondiente\n",
    "cv2.imshow(\"eye\",template)\n",
    "#cv2.imshow(\"Detectado\",img_rgb)\n",
    "cv2.waitKey(0)\n",
    "\n",
    "print (\"si fue encontrado \", loc )"
   ]
  },
  {
   "cell_type": "code",
   "execution_count": null,
   "metadata": {},
   "outputs": [],
   "source": []
  }
 ],
 "metadata": {
  "kernelspec": {
   "display_name": "Python 3",
   "language": "python",
   "name": "python3"
  },
  "language_info": {
   "codemirror_mode": {
    "name": "ipython",
    "version": 3
   },
   "file_extension": ".py",
   "mimetype": "text/x-python",
   "name": "python",
   "nbconvert_exporter": "python",
   "pygments_lexer": "ipython3",
   "version": "3.8.5"
  }
 },
 "nbformat": 4,
 "nbformat_minor": 4
}
