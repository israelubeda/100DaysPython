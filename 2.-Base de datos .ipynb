{
 "cells": [
  {
   "cell_type": "markdown",
   "metadata": {},
   "source": [
    "Base de datos en Python\n",
    "\n",
    "#100DaysPython Dia 2\n"
   ]
  },
  {
   "cell_type": "code",
   "execution_count": 1,
   "metadata": {},
   "outputs": [],
   "source": [
    "# Crear base de datos"
   ]
  },
  {
   "cell_type": "code",
   "execution_count": 3,
   "metadata": {},
   "outputs": [],
   "source": [
    "import sqlite3\n",
    "\n",
    "#usamos modulo sqlite , metodo connect para conectar base de datos si ya existe o lo crea si no existe.\n",
    "\n",
    "conexion = sqlite3.connect(\"basededatos1.db\")\n",
    "\n",
    "#cerrando la conexion\n",
    "conexion.close()"
   ]
  },
  {
   "cell_type": "code",
   "execution_count": 4,
   "metadata": {},
   "outputs": [],
   "source": [
    "# Crear tabla"
   ]
  },
  {
   "cell_type": "code",
   "execution_count": 8,
   "metadata": {},
   "outputs": [],
   "source": [
    "import sqlite3\n",
    "\n",
    "conexion = sqlite3.connect(\"basededatos1.db\")\n",
    "#se utiliza el metodo cursor para ejecutar sentencias SQL dentro de la base de datos\n",
    "cursor = conexion.cursor()\n",
    "#metodo execute se utiliza para crear una tabla CREATE TABLE\n",
    "cursor.execute(\"CREATE TABLE PERSONAS (nombre TEXT, apellido1 TEXT, apellido2 TEXT, edad INTEGER)\")\n",
    "\n",
    "conexion.commit()\n",
    "\n",
    "conexion.close()"
   ]
  },
  {
   "cell_type": "code",
   "execution_count": 9,
   "metadata": {},
   "outputs": [],
   "source": [
    "# Insertar filas dentro de la base de datos"
   ]
  },
  {
   "cell_type": "code",
   "execution_count": 10,
   "metadata": {},
   "outputs": [],
   "source": [
    "import sqlite3\n",
    "\n",
    "conexion = sqlite3.connect(\"basededatos1.db\")\n",
    "#se utiliza el metodo cursor para ejecutar sentencias SQL dentro de la base de datos\n",
    "cursor = conexion.cursor()\n",
    "\n",
    "cursor.execute(\"INSERT INTO PERSONAS VALUES('Israel','Ubeda','Bravo',33)\")\n",
    "\n",
    "conexion.commit()\n",
    "\n",
    "conexion.close()\n"
   ]
  },
  {
   "cell_type": "code",
   "execution_count": 11,
   "metadata": {},
   "outputs": [],
   "source": [
    "# Insertar varios registros a la base de datos"
   ]
  },
  {
   "cell_type": "code",
   "execution_count": 12,
   "metadata": {},
   "outputs": [],
   "source": [
    "import sqlite3\n",
    "\n",
    "conexion = sqlite3.connect(\"basededatos1.db\")\n",
    "#se utiliza el metodo cursor para ejecutar sentencias SQL dentro de la base de datos\n",
    "cursor = conexion.cursor()\n",
    "#creamos una variable con los registros a incluir\n",
    "\n",
    "lista_personas = [('Ambar','Ubeda','Meneses',10),('Lucas','Ubeda','Meneses',2),('Juan','Perez','Lopez',80)]\n",
    "\n",
    "#metodo executemany para insertar varios registros , como parametro para el metodo utilizamos la lista\n",
    "cursor.executemany(\"INSERT INTO PERSONAS VALUES (?,?,?,?)\",lista_personas)\n",
    "\n",
    "conexion.commit()\n",
    "\n",
    "conexion.close()\n"
   ]
  },
  {
   "cell_type": "code",
   "execution_count": 13,
   "metadata": {},
   "outputs": [],
   "source": [
    "# Consultar datos"
   ]
  },
  {
   "cell_type": "code",
   "execution_count": 14,
   "metadata": {},
   "outputs": [
    {
     "name": "stdout",
     "output_type": "stream",
     "text": [
      "('Israel', 'Ubeda', 'Bravo', 33)\n",
      "('Ambar', 'Ubeda', 'Meneses', 10)\n",
      "('Lucas', 'Ubeda', 'Meneses', 2)\n",
      "('Juan', 'Perez', 'Lopez', 80)\n"
     ]
    }
   ],
   "source": [
    "import sqlite3\n",
    "\n",
    "conexion = sqlite3.connect(\"basededatos1.db\")\n",
    "#se utiliza el metodo cursor para ejecutar sentencias SQL dentro de la base de datos\n",
    "cursor = conexion.cursor()\n",
    "\n",
    "cursor.execute(\"SELECT * FROM PERSONAS\")\n",
    "\n",
    "#el metodo fetchall recoge la consulta anterior al execute,recogera todos los resultados de la tabla personas\n",
    "personas =cursor.fetchall()\n",
    "\n",
    "for persona in personas:\n",
    "    print(persona)\n",
    "\n",
    "conexion.close()\n"
   ]
  },
  {
   "cell_type": "code",
   "execution_count": 15,
   "metadata": {},
   "outputs": [],
   "source": [
    "# Consultar datos utilizando condiciones"
   ]
  },
  {
   "cell_type": "code",
   "execution_count": 16,
   "metadata": {},
   "outputs": [
    {
     "name": "stdout",
     "output_type": "stream",
     "text": [
      "('Israel', 'Ubeda', 'Bravo', 33)\n",
      "('Juan', 'Perez', 'Lopez', 80)\n"
     ]
    }
   ],
   "source": [
    "import sqlite3\n",
    "\n",
    "conexion = sqlite3.connect(\"basededatos1.db\")\n",
    "#se utiliza el metodo cursor para ejecutar sentencias SQL dentro de la base de datos\n",
    "cursor = conexion.cursor()\n",
    "\n",
    "cursor.execute(\"SELECT * FROM PERSONAS WHERE edad > 30\")\n",
    "\n",
    "#el metodo fetchall recoge la consulta anterior al execute,recogera todos los resultados de la tabla personas\n",
    "personas_selec =cursor.fetchall()\n",
    "\n",
    "for persona in personas_selec:\n",
    "    print(persona)\n",
    "\n",
    "conexion.close()\n"
   ]
  },
  {
   "cell_type": "code",
   "execution_count": 17,
   "metadata": {},
   "outputs": [],
   "source": [
    "# Consultar y ordenar datos base de datos"
   ]
  },
  {
   "cell_type": "code",
   "execution_count": 18,
   "metadata": {},
   "outputs": [
    {
     "name": "stdout",
     "output_type": "stream",
     "text": [
      "('Lucas', 'Ubeda', 'Meneses', 2)\n",
      "('Ambar', 'Ubeda', 'Meneses', 10)\n",
      "('Israel', 'Ubeda', 'Bravo', 33)\n",
      "('Juan', 'Perez', 'Lopez', 80)\n"
     ]
    }
   ],
   "source": [
    "import sqlite3\n",
    "\n",
    "conexion = sqlite3.connect(\"basededatos1.db\")\n",
    "#se utiliza el metodo cursor para ejecutar sentencias SQL dentro de la base de datos\n",
    "cursor = conexion.cursor()\n",
    "\n",
    "cursor.execute(\"SELECT * FROM PERSONAS ORDER BY edad\")\n",
    "\n",
    "#el metodo fetchall recoge la consulta anterior al execute,recogera todos los resultados de la tabla personas\n",
    "personas_selec_orde =cursor.fetchall()\n",
    "\n",
    "for persona in personas_selec_orde:\n",
    "    print(persona)\n",
    "\n",
    "conexion.close()"
   ]
  },
  {
   "cell_type": "code",
   "execution_count": 19,
   "metadata": {},
   "outputs": [],
   "source": [
    "# Borrar datos base de datos"
   ]
  },
  {
   "cell_type": "code",
   "execution_count": 20,
   "metadata": {},
   "outputs": [],
   "source": [
    "import sqlite3\n",
    "\n",
    "conexion = sqlite3.connect(\"basededatos1.db\")\n",
    "#se utiliza el metodo cursor para ejecutar sentencias SQL dentro de la base de datos\n",
    "cursor = conexion.cursor()\n",
    "\n",
    "cursor.execute(\"DELETE FROM PERSONAS WHERE edad = 80\")\n",
    "\n",
    "conexion.commit()\n",
    "\n",
    "conexion.close()\n"
   ]
  },
  {
   "cell_type": "code",
   "execution_count": 21,
   "metadata": {},
   "outputs": [],
   "source": [
    "# Actualizar datos base de datos"
   ]
  },
  {
   "cell_type": "code",
   "execution_count": 22,
   "metadata": {},
   "outputs": [],
   "source": [
    "import sqlite3\n",
    "\n",
    "conexion = sqlite3.connect(\"basededatos1.db\")\n",
    "#se utiliza el metodo cursor para ejecutar sentencias SQL dentro de la base de datos\n",
    "cursor = conexion.cursor()\n",
    "\n",
    "cursor.execute(\"UPDATE PERSONAS SET edad = 8 WHERE nombre ='Ambar'\")\n",
    "\n",
    "conexion.commit()\n",
    "conexion.close()"
   ]
  },
  {
   "cell_type": "code",
   "execution_count": null,
   "metadata": {},
   "outputs": [],
   "source": []
  }
 ],
 "metadata": {
  "kernelspec": {
   "display_name": "Python 3",
   "language": "python",
   "name": "python3"
  },
  "language_info": {
   "codemirror_mode": {
    "name": "ipython",
    "version": 3
   },
   "file_extension": ".py",
   "mimetype": "text/x-python",
   "name": "python",
   "nbconvert_exporter": "python",
   "pygments_lexer": "ipython3",
   "version": "3.8.5"
  }
 },
 "nbformat": 4,
 "nbformat_minor": 4
}
