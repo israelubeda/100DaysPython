{
 "cells": [
  {
   "cell_type": "markdown",
   "metadata": {},
   "source": [
    "#selenium"
   ]
  },
  {
   "cell_type": "code",
   "execution_count": 17,
   "metadata": {},
   "outputs": [],
   "source": [
    "#!pip install selenium\n",
    "#importamos libreria de selenium\n",
    "from selenium import webdriver\n",
    "\n",
    "#se crea objeto , ruta donde estara el chromedriver\n",
    "# https://sites.google.com/a/chromium.org/chromedriver/downloads\n",
    "driver = webdriver.Chrome('/home/gotarsi/Descargas/chromedriver')\n",
    "#pagina a visitar\n",
    "driver.get('https://gmail.com')\n",
    "\n",
    "correo = driver.find_element_by_xpath('//*[@id=\"identifierId\"]')\n",
    "correo.send_keys('micorreo')\n",
    "\n",
    "\n",
    "\n",
    "siguiente = driver.find_element_by_xpath('//*[@id=\"identifierNext\"]/div/button')\n",
    "siguiente.click()"
   ]
  },
  {
   "cell_type": "code",
   "execution_count": null,
   "metadata": {},
   "outputs": [],
   "source": []
  }
 ],
 "metadata": {
  "kernelspec": {
   "display_name": "Python 3",
   "language": "python",
   "name": "python3"
  },
  "language_info": {
   "codemirror_mode": {
    "name": "ipython",
    "version": 3
   },
   "file_extension": ".py",
   "mimetype": "text/x-python",
   "name": "python",
   "nbconvert_exporter": "python",
   "pygments_lexer": "ipython3",
   "version": "3.8.5"
  }
 },
 "nbformat": 4,
 "nbformat_minor": 4
}
